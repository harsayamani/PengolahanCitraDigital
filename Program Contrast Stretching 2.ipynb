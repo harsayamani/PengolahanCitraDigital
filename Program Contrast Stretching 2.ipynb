{
 "cells": [
  {
   "cell_type": "code",
   "execution_count": 2,
   "metadata": {},
   "outputs": [],
   "source": [
    "import cv2\n",
    "from PIL import Image\n",
    "from matplotlib import pyplot as plt"
   ]
  },
  {
   "cell_type": "code",
   "execution_count": 4,
   "metadata": {},
   "outputs": [],
   "source": [
    "#proses layar Red\n",
    "def masknormR(i):\n",
    "    iI   = i\n",
    "    minI = 86\n",
    "    maxI = 230\n",
    "    min0 = 0\n",
    "    max0 = 255\n",
    "    i0   = (iI-minI)*(((max0-min0)/(maxI-minI))+min0)\n",
    "    return i0"
   ]
  },
  {
   "cell_type": "code",
   "execution_count": 11,
   "metadata": {},
   "outputs": [],
   "source": [
    "#proses layar Green\n",
    "def masknormG(i):\n",
    "    iI   = i\n",
    "    minI = 90\n",
    "    maxI = 225\n",
    "    min0 = 0\n",
    "    max0 = 255\n",
    "    i0   = (iI-minI)*(((max0-min0)/(maxI-minI))+min0)\n",
    "    return i0"
   ]
  },
  {
   "cell_type": "code",
   "execution_count": 12,
   "metadata": {},
   "outputs": [],
   "source": [
    "#proses layar Blue\n",
    "def masknormB(i):\n",
    "    iI   = i\n",
    "    minI = 100\n",
    "    maxI = 210\n",
    "    min0 = 0\n",
    "    max0 = 255\n",
    "    i0   = (iI-minI)*(((max0-min0)/(maxI-minI))+min0)\n",
    "    return i0"
   ]
  },
  {
   "cell_type": "code",
   "execution_count": 13,
   "metadata": {},
   "outputs": [],
   "source": [
    "#load gambar\n",
    "img = Image.open(\"download.jpg\")"
   ]
  },
  {
   "cell_type": "code",
   "execution_count": 14,
   "metadata": {},
   "outputs": [],
   "source": [
    "# memisahkan layer RGB\n",
    "layer = img.split()"
   ]
  },
  {
   "cell_type": "code",
   "execution_count": 15,
   "metadata": {},
   "outputs": [],
   "source": [
    "#contrast stretching setiap layer RGB\n",
    "normLayerR = layer[0].point(masknormR)\n",
    "normLayerG = layer[1].point(masknormG)\n",
    "normLayerB = layer[2].point(masknormB)"
   ]
  },
  {
   "cell_type": "code",
   "execution_count": 16,
   "metadata": {},
   "outputs": [],
   "source": [
    "#menggabungkan gambar contrast stretched layer RGB\n",
    "normImg = Image.merge(\"RGB\", (normLayerR, normLayerG, normLayerB))"
   ]
  },
  {
   "cell_type": "code",
   "execution_count": 18,
   "metadata": {},
   "outputs": [],
   "source": [
    "#Display original\n",
    "img.show()"
   ]
  },
  {
   "cell_type": "code",
   "execution_count": 19,
   "metadata": {},
   "outputs": [],
   "source": [
    "#Display contrast stretching\n",
    "normImg.show()"
   ]
  },
  {
   "cell_type": "code",
   "execution_count": null,
   "metadata": {},
   "outputs": [],
   "source": []
  }
 ],
 "metadata": {
  "kernelspec": {
   "display_name": "Python 3",
   "language": "python",
   "name": "python3"
  },
  "language_info": {
   "codemirror_mode": {
    "name": "ipython",
    "version": 3
   },
   "file_extension": ".py",
   "mimetype": "text/x-python",
   "name": "python",
   "nbconvert_exporter": "python",
   "pygments_lexer": "ipython3",
   "version": "3.8.1"
  }
 },
 "nbformat": 4,
 "nbformat_minor": 4
}
