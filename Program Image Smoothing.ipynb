{
 "cells": [
  {
   "cell_type": "code",
   "execution_count": 1,
   "metadata": {},
   "outputs": [],
   "source": [
    "import cv2\n",
    "import numpy as np"
   ]
  },
  {
   "cell_type": "code",
   "execution_count": 2,
   "metadata": {},
   "outputs": [],
   "source": [
    "img = cv2.imread('download.jpg')\n",
    "img = cv2.cvtColor(img, cv2.COLOR_BGR2RGB)\n",
    "s= img.shape\n",
    "brs = s[0]\n",
    "klm = s[1]\n",
    "mask_identitas = np.array([[0,0,0], [0,1,0], [0,0,0]])\n",
    "mask_3x3 = np.ones((3,3), np.float32)/9.0\n",
    "mask_5x5 = np.ones((5,5), np.float32)/25.0"
   ]
  },
  {
   "cell_type": "code",
   "execution_count": 3,
   "metadata": {},
   "outputs": [
    {
     "data": {
      "text/plain": [
       "-1"
      ]
     },
     "execution_count": 3,
     "metadata": {},
     "output_type": "execute_result"
    }
   ],
   "source": [
    "cv2.imshow('original', img)\n",
    "out_identitas = cv2.filter2D(img, -1, mask_identitas)\n",
    "cv2.imshow('filter identitas', out_identitas)\n",
    "out_3x3 = cv2.filter2D(img, -1, mask_3x3)\n",
    "cv2.imshow('filter 3x3', out_3x3)\n",
    "out_5x5 = cv2.filter2D(img, -1, mask_5x5)\n",
    "cv2.imshow('filter 5x5', out_5x5)\n",
    "cv2.waitKey(0)"
   ]
  },
  {
   "cell_type": "code",
   "execution_count": null,
   "metadata": {},
   "outputs": [],
   "source": []
  }
 ],
 "metadata": {
  "kernelspec": {
   "display_name": "Python 3",
   "language": "python",
   "name": "python3"
  },
  "language_info": {
   "codemirror_mode": {
    "name": "ipython",
    "version": 3
   },
   "file_extension": ".py",
   "mimetype": "text/x-python",
   "name": "python",
   "nbconvert_exporter": "python",
   "pygments_lexer": "ipython3",
   "version": "3.8.1"
  }
 },
 "nbformat": 4,
 "nbformat_minor": 4
}
