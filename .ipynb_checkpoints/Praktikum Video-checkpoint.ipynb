{
 "cells": [
  {
   "cell_type": "code",
   "execution_count": 1,
   "metadata": {},
   "outputs": [],
   "source": [
    "import cv2\n",
    "import numpy as np"
   ]
  },
  {
   "cell_type": "code",
   "execution_count": 2,
   "metadata": {},
   "outputs": [],
   "source": [
    "def drawM(event, x, y, flag, param):\n",
    "    global p1, pt2, atasKlik, bawahKlik\n",
    "    \n",
    "    #ambil mouse klik\n",
    "    if event == cv2.EVENT_LBUTTONDOWN:\n",
    "        if atasKlik == True and bawahKlik == True:\n",
    "            atasKlik = False\n",
    "            bawahKlik = False\n",
    "            pt1 = (0,0)\n",
    "            pt2 = (0,0)\n",
    "        if atasKlik == False:\n",
    "            pt1 = (x,y)\n",
    "            atasKlik = True\n",
    "        elif bawahKlik == False:\n",
    "            pt2 = (x,y)\n",
    "            bawahKlik == True"
   ]
  },
  {
   "cell_type": "code",
   "execution_count": 3,
   "metadata": {},
   "outputs": [],
   "source": [
    "pt1 = (0,0)\n",
    "pt2 = (0,0)\n",
    "atasKlik = False\n",
    "bawahKlik = False\n",
    "\n",
    "# connect to computer camera\n",
    "capVideo = cv2.VideoCapture(0)\n",
    "cv2.namedWindow('cek')\n",
    "cv2.setMouseCallback('cek', drawM)\n",
    "\n",
    "while True:\n",
    "    # ambil frame\n",
    "    xVar, frame = capVideo.read()\n",
    "    \n",
    "    #create rectangle\n",
    "    if atasKlik and bawahKlik:\n",
    "        cv2.rectangle(frame, pt1, pt2, color=(0, 255, 0), thickness=4)\n",
    "    \n",
    "    # tampilkan frame\n",
    "    cv2.imshow('cek', frame)\n",
    "    \n",
    "    if cv2.waitKey(1) & 0xFF == ord('q'):\n",
    "        break\n",
    "\n",
    "capVideo.release()\n",
    "cv2.destroyAllWindows()"
   ]
  },
  {
   "cell_type": "code",
   "execution_count": 40,
   "metadata": {},
   "outputs": [],
   "source": []
  },
  {
   "cell_type": "code",
   "execution_count": null,
   "metadata": {},
   "outputs": [],
   "source": []
  }
 ],
 "metadata": {
  "kernelspec": {
   "display_name": "Python 3",
   "language": "python",
   "name": "python3"
  },
  "language_info": {
   "codemirror_mode": {
    "name": "ipython",
    "version": 3
   },
   "file_extension": ".py",
   "mimetype": "text/x-python",
   "name": "python",
   "nbconvert_exporter": "python",
   "pygments_lexer": "ipython3",
   "version": "3.6.10"
  }
 },
 "nbformat": 4,
 "nbformat_minor": 4
}
