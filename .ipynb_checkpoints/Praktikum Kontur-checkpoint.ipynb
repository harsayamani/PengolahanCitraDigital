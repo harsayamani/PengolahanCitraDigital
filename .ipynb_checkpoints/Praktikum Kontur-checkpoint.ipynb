{
 "cells": [
  {
   "cell_type": "code",
   "execution_count": 1,
   "metadata": {},
   "outputs": [],
   "source": [
    "import cv2\n",
    "import numpy as np\n",
    "import matplotlib.pyplot as plt"
   ]
  },
  {
   "cell_type": "code",
   "execution_count": 16,
   "metadata": {},
   "outputs": [
    {
     "name": "stdout",
     "output_type": "stream",
     "text": [
      "[[[   1   -1   -1   -1]\n",
      "  [   2    0   -1   -1]\n",
      "  [   3    1   -1   -1]\n",
      "  ...\n",
      "  [1208 1206   -1   -1]\n",
      "  [1209 1207   -1   -1]\n",
      "  [  -1 1208   -1   -1]]]\n"
     ]
    },
    {
     "data": {
      "image/png": "[encoded data removed]",
      "text/plain": [
       "<Figure size 432x288 with 3 Axes>"
      ]
     },
     "metadata": {
      "needs_background": "light"
     },
     "output_type": "display_data"
    }
   ],
   "source": [
    "img = cv2.imread('bw.jpeg', 0)\n",
    "\n",
    "contours, hierarchy = cv2.findContours(img, cv2.RETR_CCOMP, cv2.CHAIN_APPROX_NONE)\n",
    "\n",
    "print(hierarchy)\n",
    "\n",
    "##tampilkan contours external\n",
    "external_contours = np.zeros(img.shape)\n",
    "\n",
    "# perulangan\n",
    "for i in range(len(contours)):\n",
    "    if hierarchy[0][i][3]==-1:\n",
    "        cv2.drawContours(external_contours, contours, i, 255, -1)\n",
    "    \n",
    "##tampilkan contour internal\n",
    "internal_contours = np.zeros(img.shape)\n",
    "for i in range(len(contours)):\n",
    "    if hierarchy[0][i][3]!=-1:\n",
    "        cv2.drawContours(internal_contours, contours, i, 255, -1)\n",
    "\n",
    "# image = np.zeros(img.shape)\n",
    "# cv2.drawContours(image, contours)\n",
    "\n",
    "# print(type(contours))\n",
    "# print(len(contours))\n",
    "# print(type(hierarchy))\n",
    "\n",
    "plt.subplot(221), plt.title('original'), plt.imshow(img, cmap='gray')\n",
    "plt.subplot(222), plt.title('external'), plt.imshow(external_contours, cmap='gray')\n",
    "plt.subplot(223), plt.title('internal'), plt.imshow(internal_contours, cmap='gray')\n",
    "plt.subplot(224), plt.title('internal'), plt.imshow(internal_contours, cmap='gray')\n",
    "\n",
    "\n",
    "plt.show()\n",
    "\n",
    "cv2.waitKey(0)\n",
    "cv2.destroyAllWindows()"
   ]
  },
  {
   "cell_type": "code",
   "execution_count": null,
   "metadata": {},
   "outputs": [],
   "source": []
  }
 ],
 "metadata": {
  "kernelspec": {
   "display_name": "Python 3",
   "language": "python",
   "name": "python3"
  },
  "language_info": {
   "codemirror_mode": {
    "name": "ipython",
    "version": 3
   },
   "file_extension": ".py",
   "mimetype": "text/x-python",
   "name": "python",
   "nbconvert_exporter": "python",
   "pygments_lexer": "ipython3",
   "version": "3.6.10"
  }
 },
 "nbformat": 4,
 "nbformat_minor": 4
}
